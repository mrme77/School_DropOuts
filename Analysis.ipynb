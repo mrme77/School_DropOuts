{
 "cells": [
  {
   "cell_type": "code",
   "execution_count": 7,
   "id": "8765be0f-bc53-46e9-ad17-c78391de2b24",
   "metadata": {},
   "outputs": [],
   "source": [
    "import numpy as np\n",
    "import pandas as pd\n",
    "import matplotlib.pyplot as plt\n",
    "from sklearn.linear_model import LinearRegression\n",
    "from sklearn.model_selection import train_test_split\n",
    "from sklearn.metrics import r2_score, mean_squared_error\n",
    "import seaborn as sns\n",
    "pd.set_option('display.max_columns', None)\n",
    "\n",
    "%matplotlib inline"
   ]
  },
  {
   "cell_type": "code",
   "execution_count": 8,
   "id": "a6e50f1f-8941-4358-bbc4-cd623f92c1b4",
   "metadata": {},
   "outputs": [],
   "source": [
    "df = pd.read_csv('./student_data.csv')"
   ]
  },
  {
   "cell_type": "markdown",
   "id": "f6f1f7e8-67c3-4494-be85-e468e9d66431",
   "metadata": {},
   "source": [
    "### Exploratory Data Analysis (EDA)"
   ]
  },
  {
   "cell_type": "code",
   "execution_count": 9,
   "id": "581809b5-cec8-433d-835c-a38bf981c1b0",
   "metadata": {},
   "outputs": [
    {
     "data": {
      "text/html": [
       "<div>\n",
       "<style scoped>\n",
       "    .dataframe tbody tr th:only-of-type {\n",
       "        vertical-align: middle;\n",
       "    }\n",
       "\n",
       "    .dataframe tbody tr th {\n",
       "        vertical-align: top;\n",
       "    }\n",
       "\n",
       "    .dataframe thead th {\n",
       "        text-align: right;\n",
       "    }\n",
       "</style>\n",
       "<table border=\"1\" class=\"dataframe\">\n",
       "  <thead>\n",
       "    <tr style=\"text-align: right;\">\n",
       "      <th></th>\n",
       "      <th>School</th>\n",
       "      <th>Gender</th>\n",
       "      <th>Age</th>\n",
       "      <th>Address</th>\n",
       "      <th>Family_Size</th>\n",
       "      <th>Parental_Status</th>\n",
       "      <th>Mother_Education</th>\n",
       "      <th>Father_Education</th>\n",
       "      <th>Mother_Job</th>\n",
       "      <th>Father_Job</th>\n",
       "      <th>Reason_for_Choosing_School</th>\n",
       "      <th>Guardian</th>\n",
       "      <th>Travel_Time</th>\n",
       "      <th>Study_Time</th>\n",
       "      <th>Number_of_Failures</th>\n",
       "      <th>School_Support</th>\n",
       "      <th>Family_Support</th>\n",
       "      <th>Extra_Paid_Class</th>\n",
       "      <th>Extra_Curricular_Activities</th>\n",
       "      <th>Attended_Nursery</th>\n",
       "      <th>Wants_Higher_Education</th>\n",
       "      <th>Internet_Access</th>\n",
       "      <th>In_Relationship</th>\n",
       "      <th>Family_Relationship</th>\n",
       "      <th>Free_Time</th>\n",
       "      <th>Going_Out</th>\n",
       "      <th>Weekend_Alcohol_Consumption</th>\n",
       "      <th>Weekday_Alcohol_Consumption</th>\n",
       "      <th>Health_Status</th>\n",
       "      <th>Number_of_Absences</th>\n",
       "      <th>Grade_1</th>\n",
       "      <th>Grade_2</th>\n",
       "      <th>Final_Grade</th>\n",
       "      <th>Dropped_Out</th>\n",
       "    </tr>\n",
       "  </thead>\n",
       "  <tbody>\n",
       "    <tr>\n",
       "      <th>0</th>\n",
       "      <td>School A</td>\n",
       "      <td>Female</td>\n",
       "      <td>13.0</td>\n",
       "      <td>Urban</td>\n",
       "      <td>1.0</td>\n",
       "      <td>Together</td>\n",
       "      <td>Primary</td>\n",
       "      <td>Secondary</td>\n",
       "      <td>Business</td>\n",
       "      <td>Healthcare</td>\n",
       "      <td>Reputation</td>\n",
       "      <td>Mother</td>\n",
       "      <td>14.0</td>\n",
       "      <td>5.0</td>\n",
       "      <td>0</td>\n",
       "      <td>No</td>\n",
       "      <td>Yes</td>\n",
       "      <td>Yes</td>\n",
       "      <td>No</td>\n",
       "      <td>No</td>\n",
       "      <td>Yes</td>\n",
       "      <td>No</td>\n",
       "      <td>Yes</td>\n",
       "      <td>Bad</td>\n",
       "      <td>5.0</td>\n",
       "      <td>4.0</td>\n",
       "      <td>Low</td>\n",
       "      <td>Low</td>\n",
       "      <td>Very Bad</td>\n",
       "      <td>1</td>\n",
       "      <td>16.0</td>\n",
       "      <td>14.0</td>\n",
       "      <td>16.0</td>\n",
       "      <td>Yes</td>\n",
       "    </tr>\n",
       "    <tr>\n",
       "      <th>1</th>\n",
       "      <td>School C</td>\n",
       "      <td>Female</td>\n",
       "      <td>14.0</td>\n",
       "      <td>Suburban</td>\n",
       "      <td>4.0</td>\n",
       "      <td>Apart</td>\n",
       "      <td>Higher</td>\n",
       "      <td>NaN</td>\n",
       "      <td>Service</td>\n",
       "      <td>Education</td>\n",
       "      <td>Course</td>\n",
       "      <td>Mother</td>\n",
       "      <td>7.0</td>\n",
       "      <td>4.0</td>\n",
       "      <td>0</td>\n",
       "      <td>Yes</td>\n",
       "      <td>Yes</td>\n",
       "      <td>Yes</td>\n",
       "      <td>Yes</td>\n",
       "      <td>Yes</td>\n",
       "      <td>No</td>\n",
       "      <td>Yes</td>\n",
       "      <td>Yes</td>\n",
       "      <td>Very Bad</td>\n",
       "      <td>3.0</td>\n",
       "      <td>1.0</td>\n",
       "      <td>Very High</td>\n",
       "      <td>NaN</td>\n",
       "      <td>Good</td>\n",
       "      <td>3</td>\n",
       "      <td>15.0</td>\n",
       "      <td>16.0</td>\n",
       "      <td>15.0</td>\n",
       "      <td>No</td>\n",
       "    </tr>\n",
       "    <tr>\n",
       "      <th>2</th>\n",
       "      <td>School C</td>\n",
       "      <td>Female</td>\n",
       "      <td>18.0</td>\n",
       "      <td>Rural</td>\n",
       "      <td>5.0</td>\n",
       "      <td>Apart</td>\n",
       "      <td>NaN</td>\n",
       "      <td>Primary</td>\n",
       "      <td>Business</td>\n",
       "      <td>Unemployed</td>\n",
       "      <td>Course</td>\n",
       "      <td>Father</td>\n",
       "      <td>NaN</td>\n",
       "      <td>1.0</td>\n",
       "      <td>0</td>\n",
       "      <td>No</td>\n",
       "      <td>No</td>\n",
       "      <td>Yes</td>\n",
       "      <td>Yes</td>\n",
       "      <td>No</td>\n",
       "      <td>No</td>\n",
       "      <td>No</td>\n",
       "      <td>Yes</td>\n",
       "      <td>Bad</td>\n",
       "      <td>2.0</td>\n",
       "      <td>5.0</td>\n",
       "      <td>Very High</td>\n",
       "      <td>Medium</td>\n",
       "      <td>Excellent</td>\n",
       "      <td>0</td>\n",
       "      <td>17.0</td>\n",
       "      <td>13.0</td>\n",
       "      <td>8.0</td>\n",
       "      <td>Yes</td>\n",
       "    </tr>\n",
       "    <tr>\n",
       "      <th>3</th>\n",
       "      <td>School B</td>\n",
       "      <td>Other</td>\n",
       "      <td>18.0</td>\n",
       "      <td>Suburban</td>\n",
       "      <td>7.0</td>\n",
       "      <td>Apart</td>\n",
       "      <td>Secondary</td>\n",
       "      <td>Secondary</td>\n",
       "      <td>Business</td>\n",
       "      <td>Technology</td>\n",
       "      <td>Home</td>\n",
       "      <td>Other</td>\n",
       "      <td>41.0</td>\n",
       "      <td>4.0</td>\n",
       "      <td>1</td>\n",
       "      <td>No</td>\n",
       "      <td>No</td>\n",
       "      <td>Yes</td>\n",
       "      <td>No</td>\n",
       "      <td>Yes</td>\n",
       "      <td>Yes</td>\n",
       "      <td>No</td>\n",
       "      <td>Yes</td>\n",
       "      <td>Good</td>\n",
       "      <td>5.0</td>\n",
       "      <td>NaN</td>\n",
       "      <td>Low</td>\n",
       "      <td>NaN</td>\n",
       "      <td>Good</td>\n",
       "      <td>6</td>\n",
       "      <td>NaN</td>\n",
       "      <td>16.0</td>\n",
       "      <td>16.0</td>\n",
       "      <td>No</td>\n",
       "    </tr>\n",
       "    <tr>\n",
       "      <th>4</th>\n",
       "      <td>School A</td>\n",
       "      <td>Other</td>\n",
       "      <td>16.0</td>\n",
       "      <td>Suburban</td>\n",
       "      <td>8.0</td>\n",
       "      <td>Apart</td>\n",
       "      <td>Higher</td>\n",
       "      <td>NaN</td>\n",
       "      <td>Unemployed</td>\n",
       "      <td>Education</td>\n",
       "      <td>Other</td>\n",
       "      <td>Father</td>\n",
       "      <td>39.0</td>\n",
       "      <td>7.0</td>\n",
       "      <td>2</td>\n",
       "      <td>Yes</td>\n",
       "      <td>No</td>\n",
       "      <td>Yes</td>\n",
       "      <td>No</td>\n",
       "      <td>Yes</td>\n",
       "      <td>No</td>\n",
       "      <td>No</td>\n",
       "      <td>No</td>\n",
       "      <td>Very Bad</td>\n",
       "      <td>4.0</td>\n",
       "      <td>4.0</td>\n",
       "      <td>NaN</td>\n",
       "      <td>Low</td>\n",
       "      <td>Bad</td>\n",
       "      <td>2</td>\n",
       "      <td>16.0</td>\n",
       "      <td>13.0</td>\n",
       "      <td>15.0</td>\n",
       "      <td>No</td>\n",
       "    </tr>\n",
       "  </tbody>\n",
       "</table>\n",
       "</div>"
      ],
      "text/plain": [
       "     School  Gender   Age   Address  Family_Size Parental_Status  \\\n",
       "0  School A  Female  13.0     Urban          1.0        Together   \n",
       "1  School C  Female  14.0  Suburban          4.0           Apart   \n",
       "2  School C  Female  18.0     Rural          5.0           Apart   \n",
       "3  School B   Other  18.0  Suburban          7.0           Apart   \n",
       "4  School A   Other  16.0  Suburban          8.0           Apart   \n",
       "\n",
       "  Mother_Education Father_Education  Mother_Job  Father_Job  \\\n",
       "0          Primary        Secondary    Business  Healthcare   \n",
       "1           Higher              NaN     Service   Education   \n",
       "2              NaN          Primary    Business  Unemployed   \n",
       "3        Secondary        Secondary    Business  Technology   \n",
       "4           Higher              NaN  Unemployed   Education   \n",
       "\n",
       "  Reason_for_Choosing_School Guardian  Travel_Time  Study_Time  \\\n",
       "0                 Reputation   Mother         14.0         5.0   \n",
       "1                     Course   Mother          7.0         4.0   \n",
       "2                     Course   Father          NaN         1.0   \n",
       "3                       Home    Other         41.0         4.0   \n",
       "4                      Other   Father         39.0         7.0   \n",
       "\n",
       "   Number_of_Failures School_Support Family_Support Extra_Paid_Class  \\\n",
       "0                   0             No            Yes              Yes   \n",
       "1                   0            Yes            Yes              Yes   \n",
       "2                   0             No             No              Yes   \n",
       "3                   1             No             No              Yes   \n",
       "4                   2            Yes             No              Yes   \n",
       "\n",
       "  Extra_Curricular_Activities Attended_Nursery Wants_Higher_Education  \\\n",
       "0                          No               No                    Yes   \n",
       "1                         Yes              Yes                     No   \n",
       "2                         Yes               No                     No   \n",
       "3                          No              Yes                    Yes   \n",
       "4                          No              Yes                     No   \n",
       "\n",
       "  Internet_Access In_Relationship Family_Relationship  Free_Time  Going_Out  \\\n",
       "0              No             Yes                 Bad        5.0        4.0   \n",
       "1             Yes             Yes            Very Bad        3.0        1.0   \n",
       "2              No             Yes                 Bad        2.0        5.0   \n",
       "3              No             Yes                Good        5.0        NaN   \n",
       "4              No              No            Very Bad        4.0        4.0   \n",
       "\n",
       "  Weekend_Alcohol_Consumption Weekday_Alcohol_Consumption Health_Status  \\\n",
       "0                         Low                         Low      Very Bad   \n",
       "1                   Very High                         NaN          Good   \n",
       "2                   Very High                      Medium     Excellent   \n",
       "3                         Low                         NaN          Good   \n",
       "4                         NaN                         Low           Bad   \n",
       "\n",
       "   Number_of_Absences  Grade_1  Grade_2  Final_Grade Dropped_Out  \n",
       "0                   1     16.0     14.0         16.0         Yes  \n",
       "1                   3     15.0     16.0         15.0          No  \n",
       "2                   0     17.0     13.0          8.0         Yes  \n",
       "3                   6      NaN     16.0         16.0          No  \n",
       "4                   2     16.0     13.0         15.0          No  "
      ]
     },
     "execution_count": 9,
     "metadata": {},
     "output_type": "execute_result"
    }
   ],
   "source": [
    "df.head()"
   ]
  },
  {
   "cell_type": "code",
   "execution_count": 11,
   "id": "bfc1377e-2c8f-40d2-8ba0-e3b99bf081e8",
   "metadata": {},
   "outputs": [
    {
     "name": "stdout",
     "output_type": "stream",
     "text": [
      "This dataset has 20000 rows and 34 columns\n"
     ]
    }
   ],
   "source": [
    "print(\"This dataset has {} rows and {} columns\".format(df.shape[0],df.shape[1]))"
   ]
  },
  {
   "cell_type": "code",
   "execution_count": 24,
   "id": "1cdcded0-18c4-48d4-a8a0-3c3fae89a19d",
   "metadata": {},
   "outputs": [
    {
     "name": "stdout",
     "output_type": "stream",
     "text": [
      "<class 'pandas.core.frame.DataFrame'>\n",
      "RangeIndex: 20000 entries, 0 to 19999\n",
      "Data columns (total 34 columns):\n",
      " #   Column                       Non-Null Count  Dtype  \n",
      "---  ------                       --------------  -----  \n",
      " 0   School                       20000 non-null  object \n",
      " 1   Gender                       20000 non-null  object \n",
      " 2   Age                          18977 non-null  float64\n",
      " 3   Address                      20000 non-null  object \n",
      " 4   Family_Size                  19008 non-null  float64\n",
      " 5   Parental_Status              20000 non-null  object \n",
      " 6   Mother_Education             14876 non-null  object \n",
      " 7   Father_Education             14986 non-null  object \n",
      " 8   Mother_Job                   20000 non-null  object \n",
      " 9   Father_Job                   20000 non-null  object \n",
      " 10  Reason_for_Choosing_School   20000 non-null  object \n",
      " 11  Guardian                     20000 non-null  object \n",
      " 12  Travel_Time                  18990 non-null  float64\n",
      " 13  Study_Time                   18981 non-null  float64\n",
      " 14  Number_of_Failures           20000 non-null  int64  \n",
      " 15  School_Support               20000 non-null  object \n",
      " 16  Family_Support               20000 non-null  object \n",
      " 17  Extra_Paid_Class             20000 non-null  object \n",
      " 18  Extra_Curricular_Activities  20000 non-null  object \n",
      " 19  Attended_Nursery             20000 non-null  object \n",
      " 20  Wants_Higher_Education       20000 non-null  object \n",
      " 21  Internet_Access              20000 non-null  object \n",
      " 22  In_Relationship              20000 non-null  object \n",
      " 23  Family_Relationship          20000 non-null  object \n",
      " 24  Free_Time                    18954 non-null  float64\n",
      " 25  Going_Out                    19002 non-null  float64\n",
      " 26  Weekend_Alcohol_Consumption  16023 non-null  object \n",
      " 27  Weekday_Alcohol_Consumption  15969 non-null  object \n",
      " 28  Health_Status                20000 non-null  object \n",
      " 29  Number_of_Absences           20000 non-null  int64  \n",
      " 30  Grade_1                      18990 non-null  float64\n",
      " 31  Grade_2                      18985 non-null  float64\n",
      " 32  Final_Grade                  18994 non-null  float64\n",
      " 33  Dropped_Out                  20000 non-null  object \n",
      "dtypes: float64(9), int64(2), object(23)\n",
      "memory usage: 5.2+ MB\n"
     ]
    }
   ],
   "source": [
    "df.info()\n"
   ]
  },
  {
   "cell_type": "code",
   "execution_count": 44,
   "id": "39e19123-fa8f-4c30-9616-5cc614adac8e",
   "metadata": {},
   "outputs": [
    {
     "name": "stdout",
     "output_type": "stream",
     "text": [
      "There are 13 columns wiht missing data.\n"
     ]
    }
   ],
   "source": [
    "print(\"There are {} columns wiht missing data.\".format(len((df.isnull().mean() * 100)[df.isnull().mean() * 100 > 0])))"
   ]
  },
  {
   "cell_type": "code",
   "execution_count": 45,
   "id": "b6a11882-6943-4c86-b3f2-89cf45cdd34a",
   "metadata": {},
   "outputs": [
    {
     "data": {
      "text/plain": [
       "Age                             5.115\n",
       "Family_Size                     4.960\n",
       "Mother_Education               25.620\n",
       "Father_Education               25.070\n",
       "Travel_Time                     5.050\n",
       "Study_Time                      5.095\n",
       "Free_Time                       5.230\n",
       "Going_Out                       4.990\n",
       "Weekend_Alcohol_Consumption    19.885\n",
       "Weekday_Alcohol_Consumption    20.155\n",
       "Grade_1                         5.050\n",
       "Grade_2                         5.075\n",
       "Final_Grade                     5.030\n",
       "dtype: float64"
      ]
     },
     "execution_count": 45,
     "metadata": {},
     "output_type": "execute_result"
    }
   ],
   "source": [
    "(df.isnull().mean() * 100)[df.isnull().mean() * 100 > 0]\n"
   ]
  },
  {
   "cell_type": "markdown",
   "id": "90aa103a-08e0-4e4c-bb04-9c6af1398c71",
   "metadata": {},
   "source": [
    "#### Isolating categorical features"
   ]
  },
  {
   "cell_type": "code",
   "execution_count": 47,
   "id": "938c4d33-ab64-41e6-8b35-9c3913893972",
   "metadata": {},
   "outputs": [
    {
     "data": {
      "text/plain": [
       "Index(['School', 'Gender', 'Address', 'Parental_Status', 'Mother_Education',\n",
       "       'Father_Education', 'Mother_Job', 'Father_Job',\n",
       "       'Reason_for_Choosing_School', 'Guardian', 'School_Support',\n",
       "       'Family_Support', 'Extra_Paid_Class', 'Extra_Curricular_Activities',\n",
       "       'Attended_Nursery', 'Wants_Higher_Education', 'Internet_Access',\n",
       "       'In_Relationship', 'Family_Relationship', 'Weekend_Alcohol_Consumption',\n",
       "       'Weekday_Alcohol_Consumption', 'Health_Status', 'Dropped_Out'],\n",
       "      dtype='object')"
      ]
     },
     "execution_count": 47,
     "metadata": {},
     "output_type": "execute_result"
    }
   ],
   "source": [
    "df.select_dtypes(include='object').columns"
   ]
  },
  {
   "cell_type": "code",
   "execution_count": 57,
   "id": "faeab556-3049-4112-946a-2d3ad3359e87",
   "metadata": {},
   "outputs": [
    {
     "name": "stdout",
     "output_type": "stream",
     "text": [
      "At a first glance, there are 23 categorical features.\n"
     ]
    }
   ],
   "source": [
    "print(\"At a first glance, there are {} categorical features.\".format(len(df.select_dtypes(include='object').columns)))"
   ]
  },
  {
   "cell_type": "markdown",
   "id": "27a5798f-70df-4e81-a9a4-45d65ea9e3a7",
   "metadata": {},
   "source": [
    "#### Isolating quantitative features"
   ]
  },
  {
   "cell_type": "code",
   "execution_count": 58,
   "id": "05f9aa77-e1bb-42a9-ba7d-3abd39fe4567",
   "metadata": {},
   "outputs": [
    {
     "data": {
      "text/plain": [
       "Index(['Age', 'Family_Size', 'Travel_Time', 'Study_Time', 'Number_of_Failures',\n",
       "       'Free_Time', 'Going_Out', 'Number_of_Absences', 'Grade_1', 'Grade_2',\n",
       "       'Final_Grade'],\n",
       "      dtype='object')"
      ]
     },
     "execution_count": 58,
     "metadata": {},
     "output_type": "execute_result"
    }
   ],
   "source": [
    "df.select_dtypes(exclude='object').columns"
   ]
  },
  {
   "cell_type": "code",
   "execution_count": 60,
   "id": "dc670315-5da1-472e-ad51-7946d801b57c",
   "metadata": {},
   "outputs": [
    {
     "name": "stdout",
     "output_type": "stream",
     "text": [
      "At a first glance, there are 11 categorical features.\n"
     ]
    }
   ],
   "source": [
    "print(\"At a first glance, there are {} categorical features.\".format(len(df.select_dtypes(exclude='object').columns)))"
   ]
  },
  {
   "cell_type": "markdown",
   "id": "4c9cd9fb-06fb-4efa-a07f-aca75459ef02",
   "metadata": {},
   "source": [
    "#### However Going_Out should be a categorical feature since it shows a scale of values."
   ]
  },
  {
   "cell_type": "code",
   "execution_count": 61,
   "id": "43add6cb-6df4-4b7e-a625-0cd97303f080",
   "metadata": {},
   "outputs": [],
   "source": [
    "df['Going_Out'] = df['Going_Out'].astype('str')"
   ]
  },
  {
   "cell_type": "code",
   "execution_count": null,
   "id": "2ad29253-9b30-470c-b95e-8db1bc1d9d2f",
   "metadata": {},
   "outputs": [],
   "source": []
  },
  {
   "cell_type": "code",
   "execution_count": null,
   "id": "616ba26e-4396-458b-b70e-e013ceba97f4",
   "metadata": {},
   "outputs": [],
   "source": []
  }
 ],
 "metadata": {
  "kernelspec": {
   "display_name": "Python 3 (ipykernel)",
   "language": "python",
   "name": "python3"
  },
  "language_info": {
   "codemirror_mode": {
    "name": "ipython",
    "version": 3
   },
   "file_extension": ".py",
   "mimetype": "text/x-python",
   "name": "python",
   "nbconvert_exporter": "python",
   "pygments_lexer": "ipython3",
   "version": "3.10.14"
  }
 },
 "nbformat": 4,
 "nbformat_minor": 5
}
